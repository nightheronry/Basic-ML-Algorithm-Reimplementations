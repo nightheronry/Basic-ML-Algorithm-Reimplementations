{
 "cells": [
  {
   "cell_type": "code",
   "execution_count": 1,
   "metadata": {
    "collapsed": true
   },
   "outputs": [],
   "source": [
    "import numpy as np\n",
    "import random"
   ]
  },
  {
   "cell_type": "code",
   "execution_count": 2,
   "metadata": {
    "collapsed": true
   },
   "outputs": [],
   "source": [
    "def sigmoid(x):\n",
    "    return 1/(1 + np.exp(-x))\n",
    "def sigmoid_grad(f):\n",
    "    return f*(1-f)"
   ]
  },
  {
   "cell_type": "code",
   "execution_count": 37,
   "metadata": {
    "collapsed": true
   },
   "outputs": [],
   "source": [
    "posData = np.random.randn(3, 1) #Positive Example\n",
    "negData = np.random.randn(3, 1) #Negative Example\n",
    "W1 = np.random.randn(2, 3)\n",
    "U = np.random.randn(2,1) #??? Not sure"
   ]
  },
  {
   "cell_type": "code",
   "execution_count": 38,
   "metadata": {
    "collapsed": false
   },
   "outputs": [],
   "source": [
    "aPos = sigmoid(np.dot(W1,posData)) #ouput of linear+nonlinear first layer\n",
    "posScore = np.dot(U.T,aPos) #inner product of another weight matrix and ^\n",
    "aNeg = sigmoid(np.dot(W1,negData))\n",
    "negScore = np.dot(U.T,aNeg)"
   ]
  },
  {
   "cell_type": "code",
   "execution_count": 40,
   "metadata": {
    "collapsed": false
   },
   "outputs": [],
   "source": [
    "maxMarginLoss = max(0,1 - posScore + negScore) #loss function\n",
    "derivative_score_wrt_U_pos = aPos #ds/da = d(U transpose a)/ds = a\n",
    "derivative_score_wrt_U_neg = aNeg\n",
    "delta_pos = (U * sigmoid_grad(sigmoid(aPos))) #delta = U*f'(z) where z = Wx without the sigmoid\n",
    "delta_neg = (U * sigmoid_grad(sigmoid(aNeg)))\n",
    "derivative_score_wrt_W_pos = np.dot(delta_pos,posData.T) #ds/DW = d(delta dot X transpose)/dW\n",
    "derivative_score_wrt_W_neg = np.dot(delta_neg,negData.T)\n",
    "derivative_score_wrt_X_pos = np.dot(W1.T,delta_pos) \n",
    "derivative_score_wrt_X_neg = np.dot(W1.T,delta_neg) \n",
    "derivative_J_wrt_U = -aPos + aNeg"
   ]
  },
  {
   "cell_type": "code",
   "execution_count": null,
   "metadata": {
    "collapsed": true
   },
   "outputs": [],
   "source": []
  },
  {
   "cell_type": "code",
   "execution_count": null,
   "metadata": {
    "collapsed": true
   },
   "outputs": [],
   "source": []
  }
 ],
 "metadata": {
  "kernelspec": {
   "display_name": "Python [Root]",
   "language": "python",
   "name": "Python [Root]"
  },
  "language_info": {
   "codemirror_mode": {
    "name": "ipython",
    "version": 2
   },
   "file_extension": ".py",
   "mimetype": "text/x-python",
   "name": "python",
   "nbconvert_exporter": "python",
   "pygments_lexer": "ipython2",
   "version": "2.7.12"
  }
 },
 "nbformat": 4,
 "nbformat_minor": 0
}
